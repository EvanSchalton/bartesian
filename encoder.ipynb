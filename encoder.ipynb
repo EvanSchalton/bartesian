{
 "cells": [
  {
   "cell_type": "code",
   "execution_count": 1,
   "metadata": {
    "collapsed": true
   },
   "outputs": [],
   "source": [
    "import numpy as np\n",
    "from matplotlib import pyplot as plt\n",
    "import cv2"
   ]
  },
  {
   "cell_type": "code",
   "execution_count": 2,
   "metadata": {
    "collapsed": false
   },
   "outputs": [],
   "source": [
    "def envelope(value):\n",
    "    # Convert it to a bit array\n",
    "    bits = []\n",
    "    for _ in range(64):\n",
    "        bits.append(value & 1)\n",
    "        value >>= 1\n",
    "    bits.reverse()\n",
    "\n",
    "    # Append the trailer (even parity bit and stop marker)\n",
    "    parity_bit = 0 if sum(bits) % 2 == 0 else 1\n",
    "    bits.extend([parity_bit, 0, 1, 1])\n",
    "\n",
    "    assert(len(bits) == 68)\n",
    "    assert(sum(bits) % 2 == 0)\n",
    "\n",
    "    return bits"
   ]
  },
  {
   "cell_type": "code",
   "execution_count": 3,
   "metadata": {
    "collapsed": false
   },
   "outputs": [],
   "source": [
    "def create_barcode(bits):\n",
    "    # Units in 1/100 of a millimeter\n",
    "\n",
    "    # Create a 28mm by 14mm rectangle with a white background\n",
    "    img = np.zeros((1400,2800,3), np.uint8)\n",
    "    img.fill(255)\n",
    "\n",
    "    # The frame has a thickness of 0.3mm, doubled because we only care about the\n",
    "    # inner lines\n",
    "    frame_thickness = 30\n",
    "    cv2.rectangle(img, (0, 0), (2800, 1400), (0, 0, 0), 2 * frame_thickness)\n",
    "\n",
    "    # The quiet space, including the frame, is roughly 7mm\n",
    "    quiet_space_width = 1400 / 2 - frame_thickness\n",
    "    data_space_begin = (frame_thickness + quiet_space_width, frame_thickness)\n",
    "\n",
    "    # The data space is roughly 13.6mm-14mm wide. With 68 symbols, that gives us\n",
    "    # a marker width of 0.2mm-0.205mm.\n",
    "    marker_width = 20\n",
    "    marker_height = 1400 - 2 * frame_thickness\n",
    "    marker_shape = (marker_width, marker_height)\n",
    "\n",
    "    pos = np.rint(data_space_begin).astype(int)\n",
    "    for bit in bits:\n",
    "        # Draw each marker and only fill the inside\n",
    "        if bit == 1:\n",
    "            top_left_corner = np.rint(pos).astype(int)\n",
    "            bottom_right_corner = (top_left_corner + np.rint(marker_shape)).astype(int)\n",
    "            cv2.rectangle(img, top_left_corner, bottom_right_corner, (0, 0, 0), -1)\n",
    "        pos[0] += marker_width\n",
    "\n",
    "    return img"
   ]
  },
  {
   "cell_type": "code",
   "execution_count": 4,
   "metadata": {
    "collapsed": false
   },
   "outputs": [],
   "source": [
    "def create_and_save_barcode(value):\n",
    "    bits = envelope(value)\n",
    "\n",
    "    img = create_barcode(bits)\n",
    "\n",
    "    filename = f'barcodes/{value:016x}.png'\n",
    "    cv2.imwrite(filename, img)\n",
    "\n",
    "    return filename"
   ]
  },
  {
   "cell_type": "code",
   "execution_count": 5,
   "metadata": {
    "collapsed": false
   },
   "outputs": [],
   "source": [
    "# 64-bit value we want to encode (ignoring trailer)\n",
    "value = 0x93_14_32_F1_73_4C_85_33\n",
    "\n",
    "outputs = []\n",
    "\n",
    "# Flip bits:\n",
    "# for i in range(50, 64):\n",
    "#     flipped_value = value ^ (1 << i)\n",
    "#\n",
    "#     filename = create_and_save_barcode(flipped_value)\n",
    "#\n",
    "#     outputs.append((flipped_value, filename))"
   ]
  },
  {
   "cell_type": "code",
   "execution_count": 7,
   "metadata": {
    "collapsed": false
   },
   "outputs": [
    {
     "data": {
      "text/plain": [
       "''"
      ]
     },
     "execution_count": 7,
     "metadata": {},
     "output_type": "execute_result"
    }
   ],
   "source": [
    "from fpdf import FPDF\n",
    "from textwrap import wrap\n",
    "\n",
    "pdf = FPDF(unit='mm', format='Letter')\n",
    "\n",
    "pdf.add_page()\n",
    "pdf.set_font('Arial', size=7)\n",
    "\n",
    "w = 5\n",
    "x, y = 0, 0\n",
    "for value, filename in outputs:\n",
    "    pdf.cell(10 + 28, 8, ' '.join(wrap(f'{value:016x}', 2)))\n",
    "    pdf.image(filename, 10 + x * (10 + 28), 10 + 8 + y * (10 + 14), 28, 14)\n",
    "\n",
    "    x += 1\n",
    "    if x >= w:\n",
    "        x = 0\n",
    "        y += 1\n",
    "\n",
    "        pdf.ln(10 + 14)\n",
    "\n",
    "pdf.output('out.pdf', 'F')"
   ]
  }
 ],
 "metadata": {
  "kernelspec": {
   "display_name": "Python 3",
   "language": "python",
   "name": "python3"
  },
  "language_info": {
   "codemirror_mode": {
    "name": "ipython",
    "version": 3
   },
   "file_extension": ".py",
   "mimetype": "text/x-python",
   "name": "python",
   "nbconvert_exporter": "python",
   "pygments_lexer": "ipython3",
   "version": "3.11.4"
  }
 },
 "nbformat": 4,
 "nbformat_minor": 0
}
